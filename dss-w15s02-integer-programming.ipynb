{
 "cells": [
  {
   "cell_type": "markdown",
   "id": "da6c4376",
   "metadata": {},
   "source": [
    "# Introduction to Integer Programming"
   ]
  },
  {
   "cell_type": "code",
   "execution_count": 1,
   "id": "d168b07e",
   "metadata": {},
   "outputs": [],
   "source": [
    "from ortools.linear_solver import pywraplp\n",
    "\n",
    "solver = pywraplp.Solver('Maximize production', pywraplp.Solver.CBC_MIXED_INTEGER_PROGRAMMING)"
   ]
  },
  {
   "cell_type": "markdown",
   "id": "10b9aa12",
   "metadata": {},
   "source": [
    "## Setting the variables"
   ]
  },
  {
   "cell_type": "code",
   "execution_count": 2,
   "id": "8c722ff6",
   "metadata": {},
   "outputs": [],
   "source": [
    "tables = solver.IntVar(0, solver.infinity(), 'tables')\n",
    "chairs = solver.IntVar(0, solver.infinity(), 'chairs')"
   ]
  },
  {
   "cell_type": "markdown",
   "id": "bfbbaade",
   "metadata": {},
   "source": [
    "## Adding constraints"
   ]
  },
  {
   "cell_type": "code",
   "execution_count": 3,
   "id": "30575923",
   "metadata": {},
   "outputs": [
    {
     "data": {
      "text/plain": [
       "<ortools.linear_solver.pywraplp.Constraint; proxy of <Swig Object of type 'operations_research::MPConstraint *' at 0x00000228FE18F2D0> >"
      ]
     },
     "execution_count": 3,
     "metadata": {},
     "output_type": "execute_result"
    }
   ],
   "source": [
    "# constraint for wood\n",
    "solver.Add(3 * tables + chairs <= 9000) \n",
    "\n",
    "#constraint for metal\n",
    "solver.Add(tables + 2 * chairs <= 6000)"
   ]
  },
  {
   "cell_type": "markdown",
   "id": "2afc66e3",
   "metadata": {},
   "source": [
    "## Defining objective function"
   ]
  },
  {
   "cell_type": "code",
   "execution_count": 4,
   "id": "ceebef57",
   "metadata": {},
   "outputs": [],
   "source": [
    "# objective function\n",
    "solver.Maximize( 200 * tables + 100 * chairs)"
   ]
  },
  {
   "cell_type": "markdown",
   "id": "de87e731",
   "metadata": {},
   "source": [
    "## Solving the LP problem"
   ]
  },
  {
   "cell_type": "code",
   "execution_count": 5,
   "id": "a536aae9",
   "metadata": {},
   "outputs": [],
   "source": [
    "status = solver.Solve()"
   ]
  },
  {
   "cell_type": "markdown",
   "id": "804c4d13",
   "metadata": {},
   "source": [
    "## Obtaining the solution"
   ]
  },
  {
   "cell_type": "code",
   "execution_count": 6,
   "id": "d6e4d809",
   "metadata": {},
   "outputs": [
    {
     "name": "stdout",
     "output_type": "stream",
     "text": [
      "================= Solution =================\n",
      "Solved in 12899.00 milliseconds in 0 iterations\n",
      "\n",
      "Optimal production = 660000.0 units\n",
      " - Tables = 2400.0\n",
      " - Chairs = 1800.0\n"
     ]
    }
   ],
   "source": [
    "if status == pywraplp.Solver.OPTIMAL:\n",
    "    print('================= Solution =================')\n",
    "    print(f'Solved in {solver.wall_time():.2f} milliseconds in {solver.iterations()} iterations')\n",
    "\n",
    "    print()\n",
    "    print(f'Optimal production = {solver.Objective().Value()} units')\n",
    "    print(f' - Tables = {tables.solution_value()}')\n",
    "    print(f' - Chairs = {chairs.solution_value()}')    \n",
    "else:\n",
    "    print('The solver could not find an optimal solution.')"
   ]
  },
  {
   "cell_type": "code",
   "execution_count": null,
   "id": "bd3eb71e",
   "metadata": {},
   "outputs": [],
   "source": []
  }
 ],
 "metadata": {
  "kernelspec": {
   "display_name": "Python 3 (ipykernel)",
   "language": "python",
   "name": "python3"
  },
  "language_info": {
   "codemirror_mode": {
    "name": "ipython",
    "version": 3
   },
   "file_extension": ".py",
   "mimetype": "text/x-python",
   "name": "python",
   "nbconvert_exporter": "python",
   "pygments_lexer": "ipython3",
   "version": "3.9.14"
  }
 },
 "nbformat": 4,
 "nbformat_minor": 5
}
