{
 "cells": [
  {
   "cell_type": "markdown",
   "id": "070c299d",
   "metadata": {},
   "source": [
    "# Techniques for model evaluation"
   ]
  },
  {
   "cell_type": "markdown",
   "id": "755c4c33",
   "metadata": {},
   "source": [
    "## Loading customer delinquency data"
   ]
  },
  {
   "cell_type": "code",
   "execution_count": 1,
   "id": "c243566e",
   "metadata": {},
   "outputs": [
    {
     "data": {
      "text/html": [
       "<div>\n",
       "<style scoped>\n",
       "    .dataframe tbody tr th:only-of-type {\n",
       "        vertical-align: middle;\n",
       "    }\n",
       "\n",
       "    .dataframe tbody tr th {\n",
       "        vertical-align: top;\n",
       "    }\n",
       "\n",
       "    .dataframe thead th {\n",
       "        text-align: right;\n",
       "    }\n",
       "</style>\n",
       "<table border=\"1\" class=\"dataframe\">\n",
       "  <thead>\n",
       "    <tr style=\"text-align: right;\">\n",
       "      <th></th>\n",
       "      <th>GENDER</th>\n",
       "      <th>MARITAL_STATUS</th>\n",
       "      <th>RESIDENCE_TYPE</th>\n",
       "      <th>PROFESSION_CODE</th>\n",
       "      <th>OCCUPATION_TYPE</th>\n",
       "      <th>PRODUCT</th>\n",
       "      <th>QUANT_DEPENDANTS</th>\n",
       "      <th>PERSONAL_MONTHLY_INCOME</th>\n",
       "      <th>QUANT_BANKING_ACCOUNTS</th>\n",
       "      <th>AGE</th>\n",
       "      <th>TARGET_LABEL</th>\n",
       "    </tr>\n",
       "  </thead>\n",
       "  <tbody>\n",
       "    <tr>\n",
       "      <th>0</th>\n",
       "      <td>0</td>\n",
       "      <td>6</td>\n",
       "      <td>1.0</td>\n",
       "      <td>9.0</td>\n",
       "      <td>4.0</td>\n",
       "      <td>1</td>\n",
       "      <td>1</td>\n",
       "      <td>900.00</td>\n",
       "      <td>0</td>\n",
       "      <td>32</td>\n",
       "      <td>1</td>\n",
       "    </tr>\n",
       "    <tr>\n",
       "      <th>1</th>\n",
       "      <td>0</td>\n",
       "      <td>2</td>\n",
       "      <td>1.0</td>\n",
       "      <td>11.0</td>\n",
       "      <td>4.0</td>\n",
       "      <td>1</td>\n",
       "      <td>0</td>\n",
       "      <td>750.00</td>\n",
       "      <td>0</td>\n",
       "      <td>34</td>\n",
       "      <td>1</td>\n",
       "    </tr>\n",
       "    <tr>\n",
       "      <th>2</th>\n",
       "      <td>0</td>\n",
       "      <td>2</td>\n",
       "      <td>1.0</td>\n",
       "      <td>11.0</td>\n",
       "      <td>2.0</td>\n",
       "      <td>1</td>\n",
       "      <td>0</td>\n",
       "      <td>500.00</td>\n",
       "      <td>0</td>\n",
       "      <td>27</td>\n",
       "      <td>0</td>\n",
       "    </tr>\n",
       "    <tr>\n",
       "      <th>3</th>\n",
       "      <td>0</td>\n",
       "      <td>2</td>\n",
       "      <td>1.0</td>\n",
       "      <td>9.0</td>\n",
       "      <td>2.0</td>\n",
       "      <td>1</td>\n",
       "      <td>0</td>\n",
       "      <td>500.00</td>\n",
       "      <td>0</td>\n",
       "      <td>61</td>\n",
       "      <td>0</td>\n",
       "    </tr>\n",
       "    <tr>\n",
       "      <th>4</th>\n",
       "      <td>1</td>\n",
       "      <td>2</td>\n",
       "      <td>1.0</td>\n",
       "      <td>9.0</td>\n",
       "      <td>5.0</td>\n",
       "      <td>1</td>\n",
       "      <td>0</td>\n",
       "      <td>1200.00</td>\n",
       "      <td>0</td>\n",
       "      <td>48</td>\n",
       "      <td>1</td>\n",
       "    </tr>\n",
       "    <tr>\n",
       "      <th>...</th>\n",
       "      <td>...</td>\n",
       "      <td>...</td>\n",
       "      <td>...</td>\n",
       "      <td>...</td>\n",
       "      <td>...</td>\n",
       "      <td>...</td>\n",
       "      <td>...</td>\n",
       "      <td>...</td>\n",
       "      <td>...</td>\n",
       "      <td>...</td>\n",
       "      <td>...</td>\n",
       "    </tr>\n",
       "    <tr>\n",
       "      <th>49995</th>\n",
       "      <td>0</td>\n",
       "      <td>1</td>\n",
       "      <td>1.0</td>\n",
       "      <td>9.0</td>\n",
       "      <td>4.0</td>\n",
       "      <td>1</td>\n",
       "      <td>2</td>\n",
       "      <td>1451.00</td>\n",
       "      <td>1</td>\n",
       "      <td>36</td>\n",
       "      <td>1</td>\n",
       "    </tr>\n",
       "    <tr>\n",
       "      <th>49996</th>\n",
       "      <td>0</td>\n",
       "      <td>1</td>\n",
       "      <td>1.0</td>\n",
       "      <td>9.0</td>\n",
       "      <td>2.0</td>\n",
       "      <td>2</td>\n",
       "      <td>0</td>\n",
       "      <td>450.00</td>\n",
       "      <td>0</td>\n",
       "      <td>21</td>\n",
       "      <td>0</td>\n",
       "    </tr>\n",
       "    <tr>\n",
       "      <th>49997</th>\n",
       "      <td>1</td>\n",
       "      <td>2</td>\n",
       "      <td>2.0</td>\n",
       "      <td>9.0</td>\n",
       "      <td>2.0</td>\n",
       "      <td>1</td>\n",
       "      <td>3</td>\n",
       "      <td>1555.00</td>\n",
       "      <td>0</td>\n",
       "      <td>41</td>\n",
       "      <td>0</td>\n",
       "    </tr>\n",
       "    <tr>\n",
       "      <th>49998</th>\n",
       "      <td>0</td>\n",
       "      <td>1</td>\n",
       "      <td>1.0</td>\n",
       "      <td>9.0</td>\n",
       "      <td>2.0</td>\n",
       "      <td>1</td>\n",
       "      <td>1</td>\n",
       "      <td>1443.27</td>\n",
       "      <td>0</td>\n",
       "      <td>28</td>\n",
       "      <td>1</td>\n",
       "    </tr>\n",
       "    <tr>\n",
       "      <th>49999</th>\n",
       "      <td>0</td>\n",
       "      <td>2</td>\n",
       "      <td>1.0</td>\n",
       "      <td>9.0</td>\n",
       "      <td>2.0</td>\n",
       "      <td>1</td>\n",
       "      <td>2</td>\n",
       "      <td>719.38</td>\n",
       "      <td>0</td>\n",
       "      <td>27</td>\n",
       "      <td>0</td>\n",
       "    </tr>\n",
       "  </tbody>\n",
       "</table>\n",
       "<p>50000 rows × 11 columns</p>\n",
       "</div>"
      ],
      "text/plain": [
       "       GENDER  MARITAL_STATUS  RESIDENCE_TYPE  PROFESSION_CODE  \\\n",
       "0           0               6             1.0              9.0   \n",
       "1           0               2             1.0             11.0   \n",
       "2           0               2             1.0             11.0   \n",
       "3           0               2             1.0              9.0   \n",
       "4           1               2             1.0              9.0   \n",
       "...       ...             ...             ...              ...   \n",
       "49995       0               1             1.0              9.0   \n",
       "49996       0               1             1.0              9.0   \n",
       "49997       1               2             2.0              9.0   \n",
       "49998       0               1             1.0              9.0   \n",
       "49999       0               2             1.0              9.0   \n",
       "\n",
       "       OCCUPATION_TYPE  PRODUCT  QUANT_DEPENDANTS  PERSONAL_MONTHLY_INCOME  \\\n",
       "0                  4.0        1                 1                   900.00   \n",
       "1                  4.0        1                 0                   750.00   \n",
       "2                  2.0        1                 0                   500.00   \n",
       "3                  2.0        1                 0                   500.00   \n",
       "4                  5.0        1                 0                  1200.00   \n",
       "...                ...      ...               ...                      ...   \n",
       "49995              4.0        1                 2                  1451.00   \n",
       "49996              2.0        2                 0                   450.00   \n",
       "49997              2.0        1                 3                  1555.00   \n",
       "49998              2.0        1                 1                  1443.27   \n",
       "49999              2.0        1                 2                   719.38   \n",
       "\n",
       "       QUANT_BANKING_ACCOUNTS  AGE  TARGET_LABEL  \n",
       "0                           0   32             1  \n",
       "1                           0   34             1  \n",
       "2                           0   27             0  \n",
       "3                           0   61             0  \n",
       "4                           0   48             1  \n",
       "...                       ...  ...           ...  \n",
       "49995                       1   36             1  \n",
       "49996                       0   21             0  \n",
       "49997                       0   41             0  \n",
       "49998                       0   28             1  \n",
       "49999                       0   27             0  \n",
       "\n",
       "[50000 rows x 11 columns]"
      ]
     },
     "metadata": {},
     "output_type": "display_data"
    }
   ],
   "source": [
    "import pandas as pd\n",
    "\n",
    "df = pd.read_csv('./data/Delinquent_customer-Insurance_Premium.csv')\n",
    "\n",
    "# Remove unrelated data\n",
    "\n",
    "df = df.drop(columns=[\"APPLICATION_SUBMISSION_TYPE\", \n",
    "                      \"POSTAL_ADDRESS_TYPE\", \n",
    "                      \"RESIDENTIAL_PHONE\", \n",
    "                      \"EMAIL\", \n",
    "                      \"PROFESSIONAL_PHONE\",\n",
    "                      \"MONTHS_IN_RESIDENCE\",\n",
    "                      \"OTHER_INCOMES\",\n",
    "                      \"PERSONAL_ASSETS_VALUE\",\n",
    "                      \"QUANT_CARS\",\n",
    "                      \"MONTHS_IN_THE_JOB\",\n",
    "                      \"QUANT_ADDITIONAL_CARDS\"])\n",
    "\n",
    "# Converting categorical data to numeric\n",
    "df['MARITAL_STATUS'] = pd.Categorical(df['MARITAL_STATUS']).codes\n",
    "df['GENDER'] = pd.Categorical(df['GENDER']).codes\n",
    "\n",
    "# Fill all missing data\n",
    "df['GENDER'] = df['GENDER'].fillna(df['GENDER'].mode()[0])\n",
    "df['RESIDENCE_TYPE'] = df['RESIDENCE_TYPE'].fillna(df['RESIDENCE_TYPE'].mode()[0])\n",
    "df['PROFESSION_CODE'] = df['PROFESSION_CODE'].fillna(df['PROFESSION_CODE'].mode()[0])\n",
    "df['OCCUPATION_TYPE'] = df['OCCUPATION_TYPE'].fillna(df['OCCUPATION_TYPE'].mode()[0])\n",
    "\n",
    "display(df)"
   ]
  },
  {
   "cell_type": "markdown",
   "id": "f5e534e9",
   "metadata": {},
   "source": [
    "## Readying data frame for machine learning"
   ]
  },
  {
   "cell_type": "code",
   "execution_count": 2,
   "id": "ca92bd3f",
   "metadata": {},
   "outputs": [],
   "source": [
    "from sklearn.model_selection import train_test_split\n",
    "\n",
    "y = df['TARGET_LABEL'].to_numpy()\n",
    "\n",
    "df=df.drop(columns=['TARGET_LABEL'])\n",
    "\n",
    "X = df.to_numpy()\n",
    "\n",
    "X_train, X_test, y_train, y_test = train_test_split(X,\n",
    "                                                   y,\n",
    "                                                   test_size=0.33,\n",
    "                                                   random_state=42)"
   ]
  },
  {
   "cell_type": "markdown",
   "id": "9bb028f4",
   "metadata": {},
   "source": [
    "## Building a decision classifier"
   ]
  },
  {
   "cell_type": "code",
   "execution_count": 3,
   "id": "d2e12415",
   "metadata": {},
   "outputs": [
    {
     "name": "stdout",
     "output_type": "stream",
     "text": [
      "Training Gaussian NaiveBaye's classifier...\n"
     ]
    },
    {
     "data": {
      "text/html": [
       "<style>#sk-container-id-1 {color: black;background-color: white;}#sk-container-id-1 pre{padding: 0;}#sk-container-id-1 div.sk-toggleable {background-color: white;}#sk-container-id-1 label.sk-toggleable__label {cursor: pointer;display: block;width: 100%;margin-bottom: 0;padding: 0.3em;box-sizing: border-box;text-align: center;}#sk-container-id-1 label.sk-toggleable__label-arrow:before {content: \"▸\";float: left;margin-right: 0.25em;color: #696969;}#sk-container-id-1 label.sk-toggleable__label-arrow:hover:before {color: black;}#sk-container-id-1 div.sk-estimator:hover label.sk-toggleable__label-arrow:before {color: black;}#sk-container-id-1 div.sk-toggleable__content {max-height: 0;max-width: 0;overflow: hidden;text-align: left;background-color: #f0f8ff;}#sk-container-id-1 div.sk-toggleable__content pre {margin: 0.2em;color: black;border-radius: 0.25em;background-color: #f0f8ff;}#sk-container-id-1 input.sk-toggleable__control:checked~div.sk-toggleable__content {max-height: 200px;max-width: 100%;overflow: auto;}#sk-container-id-1 input.sk-toggleable__control:checked~label.sk-toggleable__label-arrow:before {content: \"▾\";}#sk-container-id-1 div.sk-estimator input.sk-toggleable__control:checked~label.sk-toggleable__label {background-color: #d4ebff;}#sk-container-id-1 div.sk-label input.sk-toggleable__control:checked~label.sk-toggleable__label {background-color: #d4ebff;}#sk-container-id-1 input.sk-hidden--visually {border: 0;clip: rect(1px 1px 1px 1px);clip: rect(1px, 1px, 1px, 1px);height: 1px;margin: -1px;overflow: hidden;padding: 0;position: absolute;width: 1px;}#sk-container-id-1 div.sk-estimator {font-family: monospace;background-color: #f0f8ff;border: 1px dotted black;border-radius: 0.25em;box-sizing: border-box;margin-bottom: 0.5em;}#sk-container-id-1 div.sk-estimator:hover {background-color: #d4ebff;}#sk-container-id-1 div.sk-parallel-item::after {content: \"\";width: 100%;border-bottom: 1px solid gray;flex-grow: 1;}#sk-container-id-1 div.sk-label:hover label.sk-toggleable__label {background-color: #d4ebff;}#sk-container-id-1 div.sk-serial::before {content: \"\";position: absolute;border-left: 1px solid gray;box-sizing: border-box;top: 0;bottom: 0;left: 50%;z-index: 0;}#sk-container-id-1 div.sk-serial {display: flex;flex-direction: column;align-items: center;background-color: white;padding-right: 0.2em;padding-left: 0.2em;position: relative;}#sk-container-id-1 div.sk-item {position: relative;z-index: 1;}#sk-container-id-1 div.sk-parallel {display: flex;align-items: stretch;justify-content: center;background-color: white;position: relative;}#sk-container-id-1 div.sk-item::before, #sk-container-id-1 div.sk-parallel-item::before {content: \"\";position: absolute;border-left: 1px solid gray;box-sizing: border-box;top: 0;bottom: 0;left: 50%;z-index: -1;}#sk-container-id-1 div.sk-parallel-item {display: flex;flex-direction: column;z-index: 1;position: relative;background-color: white;}#sk-container-id-1 div.sk-parallel-item:first-child::after {align-self: flex-end;width: 50%;}#sk-container-id-1 div.sk-parallel-item:last-child::after {align-self: flex-start;width: 50%;}#sk-container-id-1 div.sk-parallel-item:only-child::after {width: 0;}#sk-container-id-1 div.sk-dashed-wrapped {border: 1px dashed gray;margin: 0 0.4em 0.5em 0.4em;box-sizing: border-box;padding-bottom: 0.4em;background-color: white;}#sk-container-id-1 div.sk-label label {font-family: monospace;font-weight: bold;display: inline-block;line-height: 1.2em;}#sk-container-id-1 div.sk-label-container {text-align: center;}#sk-container-id-1 div.sk-container {/* jupyter's `normalize.less` sets `[hidden] { display: none; }` but bootstrap.min.css set `[hidden] { display: none !important; }` so we also need the `!important` here to be able to override the default hidden behavior on the sphinx rendered scikit-learn.org. See: https://github.com/scikit-learn/scikit-learn/issues/21755 */display: inline-block !important;position: relative;}#sk-container-id-1 div.sk-text-repr-fallback {display: none;}</style><div id=\"sk-container-id-1\" class=\"sk-top-container\"><div class=\"sk-text-repr-fallback\"><pre>GaussianNB()</pre><b>In a Jupyter environment, please rerun this cell to show the HTML representation or trust the notebook. <br />On GitHub, the HTML representation is unable to render, please try loading this page with nbviewer.org.</b></div><div class=\"sk-container\" hidden><div class=\"sk-item\"><div class=\"sk-estimator sk-toggleable\"><input class=\"sk-toggleable__control sk-hidden--visually\" id=\"sk-estimator-id-1\" type=\"checkbox\" checked><label for=\"sk-estimator-id-1\" class=\"sk-toggleable__label sk-toggleable__label-arrow\">GaussianNB</label><div class=\"sk-toggleable__content\"><pre>GaussianNB()</pre></div></div></div></div></div>"
      ],
      "text/plain": [
       "GaussianNB()"
      ]
     },
     "execution_count": 3,
     "metadata": {},
     "output_type": "execute_result"
    }
   ],
   "source": [
    "from sklearn.naive_bayes import GaussianNB\n",
    "from sklearn.metrics import classification_report\n",
    "\n",
    "gnb = GaussianNB()\n",
    "\n",
    "print(\"Training Gaussian NaiveBaye's classifier...\")\n",
    "gnb.fit(X_train, y_train)"
   ]
  },
  {
   "cell_type": "markdown",
   "id": "a860e41d",
   "metadata": {},
   "source": [
    "## Model evaluation"
   ]
  },
  {
   "cell_type": "code",
   "execution_count": 4,
   "id": "028a909a",
   "metadata": {},
   "outputs": [
    {
     "name": "stdout",
     "output_type": "stream",
     "text": [
      "Predicting with test data...\n",
      "Evaluating the prediction...\n",
      "              precision    recall  f1-score   support\n",
      "\n",
      "           0       0.74      0.97      0.84     12215\n",
      "           1       0.33      0.04      0.07      4285\n",
      "\n",
      "    accuracy                           0.73     16500\n",
      "   macro avg       0.54      0.51      0.46     16500\n",
      "weighted avg       0.63      0.73      0.64     16500\n",
      "\n"
     ]
    }
   ],
   "source": [
    "# Simple form of model evaluation\n",
    "\n",
    "print(\"Predicting with test data...\")\n",
    "y_pred = gnb.predict(X_test)\n",
    "\n",
    "print(\"Evaluating the prediction...\")\n",
    "\n",
    "# precision, recall, f1-score and support for the scores\n",
    "print(classification_report(y_test, y_pred))"
   ]
  },
  {
   "cell_type": "code",
   "execution_count": 5,
   "id": "882aadd4",
   "metadata": {},
   "outputs": [
    {
     "name": "stdout",
     "output_type": "stream",
     "text": [
      "NaiveBayes cross validation scores [0.72768 0.72912 0.71472 0.72808]\n",
      "NaiveBayes cross validation average accuracy 0.7249\n"
     ]
    }
   ],
   "source": [
    "# cross validation\n",
    "# Runs test for multiple times on the data set to obtain more realistic evaluation score\n",
    "\n",
    "import numpy as np\n",
    "from sklearn.model_selection import cross_val_score\n",
    "\n",
    "cross_val_result = cross_val_score(gnb, X, y, cv=4)\n",
    "\n",
    "print(\"NaiveBayes cross validation scores\", cross_val_result)\n",
    "print(\"NaiveBayes cross validation average accuracy\", \n",
    "      np.mean(cross_val_result))"
   ]
  },
  {
   "cell_type": "markdown",
   "id": "33a51c79",
   "metadata": {},
   "source": [
    "### Accuracy metrics\n",
    "\n",
    "$$Accuracy = \\frac{no. of correct predictions}{no. of total predictions}$$\n",
    "\n",
    "\n",
    "$$Precision = \\frac{no. of true positives}{no. of true positives + no. of false positives}$$\n",
    "\n",
    "\n",
    "$$Recall = \\frac{no. of true positives}{no. of true positives + no. of false negatives}$$\n",
    "\n",
    "\n",
    "$$f_1 score = \\frac{tp}{tp + \\frac{1}{2}(fp + fn)}$$"
   ]
  },
  {
   "cell_type": "code",
   "execution_count": 6,
   "id": "42bb9025",
   "metadata": {},
   "outputs": [
    {
     "name": "stdout",
     "output_type": "stream",
     "text": [
      "[[11868   347]\n",
      " [ 4116   169]]\n"
     ]
    }
   ],
   "source": [
    "# confusion matrix\n",
    "from sklearn.metrics import confusion_matrix\n",
    "\n",
    "cm = confusion_matrix(y_test, y_pred)\n",
    "print(cm)"
   ]
  },
  {
   "cell_type": "code",
   "execution_count": 7,
   "id": "13bb8bd3",
   "metadata": {},
   "outputs": [
    {
     "data": {
      "text/plain": [
       "Text(0.5, 1.0, 'Confusion Matrix')"
      ]
     },
     "execution_count": 7,
     "metadata": {},
     "output_type": "execute_result"
    },
    {
     "data": {
      "image/png": "[encoded data removed]",
      "text/plain": [
       "<Figure size 640x480 with 2 Axes>"
      ]
     },
     "metadata": {},
     "output_type": "display_data"
    }
   ],
   "source": [
    "# confusion matrix as a heatmap using seaborn\n",
    "\n",
    "import seaborn as sns\n",
    "import matplotlib.pyplot as plt\n",
    "\n",
    "classes = np.unique(y_test)\n",
    "xticklabels = classes.astype(int).astype(str).tolist()\n",
    "yticklabels = classes.astype(int).astype(str).tolist()\n",
    "\n",
    "ax= plt.subplot()\n",
    "\n",
    "# annot=True to annotate cells, \n",
    "# ftm='g' to disable scientific notation\n",
    "sns.heatmap(cm, \n",
    "            annot=True, fmt='g', ax=ax, \n",
    "            xticklabels=xticklabels, \n",
    "            yticklabels=yticklabels);  \n",
    "\n",
    "# labels, title and ticks\n",
    "ax.set_xlabel('Actual values')\n",
    "ax.set_ylabel('Predicted values')\n",
    "ax.set_title('Confusion Matrix')"
   ]
  },
  {
   "cell_type": "code",
   "execution_count": 8,
   "id": "17d6aba2",
   "metadata": {},
   "outputs": [
    {
     "name": "stdout",
     "output_type": "stream",
     "text": [
      "ROC AUC: 0.5055\n"
     ]
    }
   ],
   "source": [
    "# ROC curve \n",
    "from sklearn.metrics import roc_auc_score\n",
    "score = roc_auc_score(y_test, y_pred)\n",
    "print(f\"ROC AUC: {score:.4f}\")"
   ]
  },
  {
   "cell_type": "code",
   "execution_count": 10,
   "id": "8319827a",
   "metadata": {},
   "outputs": [],
   "source": [
    "from sklearn.metrics import roc_curve\n",
    "\n",
    "y_prob_pred = gnb.predict_proba(X_test)[:, 1]\n",
    "fpr, tpr, thresholds = roc_curve(y_test, y_prob_pred, pos_label = 1)"
   ]
  },
  {
   "cell_type": "code",
   "execution_count": 12,
   "id": "2a1b35ef",
   "metadata": {},
   "outputs": [
    {
     "data": {
      "image/png": "[encoded data removed]",
      "text/plain": [
       "<Figure size 640x480 with 1 Axes>"
      ]
     },
     "metadata": {},
     "output_type": "display_data"
    }
   ],
   "source": [
    "# AUC score that summarizes the ROC curve\n",
    "# Reference: https://ethen8181.github.io/machine-learning/model_selection/auc/auc.html\n",
    "\n",
    "from sklearn.metrics import auc\n",
    "\n",
    "roc_auc = auc(fpr, tpr)\n",
    "\n",
    "plt.plot(fpr, tpr, lw = 2, label = 'ROC AUC: {:.2f}'.format(roc_auc))\n",
    "plt.plot([0, 1], [0, 1],\n",
    "         linestyle = '--',\n",
    "         color = (0.6, 0.6, 0.6),\n",
    "         label = 'random guessing')\n",
    "plt.plot([0, 0, 1], [0, 1, 1],\n",
    "         linestyle = ':',\n",
    "         color = 'black', \n",
    "         label = 'perfect performance')\n",
    "\n",
    "plt.xlim([-0.05, 1.05])\n",
    "plt.ylim([-0.05, 1.05])\n",
    "plt.xlabel('false positive rate')\n",
    "plt.ylabel('true positive rate')\n",
    "plt.title('ROC curve')\n",
    "plt.legend(loc = \"lower right\")\n",
    "plt.tight_layout()\n",
    "plt.show()"
   ]
  },
  {
   "cell_type": "code",
   "execution_count": null,
   "id": "95546264",
   "metadata": {},
   "outputs": [],
   "source": []
  }
 ],
 "metadata": {
  "kernelspec": {
   "display_name": "Python 3 (ipykernel)",
   "language": "python",
   "name": "python3"
  },
  "language_info": {
   "codemirror_mode": {
    "name": "ipython",
    "version": 3
   },
   "file_extension": ".py",
   "mimetype": "text/x-python",
   "name": "python",
   "nbconvert_exporter": "python",
   "pygments_lexer": "ipython3",
   "version": "3.9.14"
  }
 },
 "nbformat": 4,
 "nbformat_minor": 5
}
